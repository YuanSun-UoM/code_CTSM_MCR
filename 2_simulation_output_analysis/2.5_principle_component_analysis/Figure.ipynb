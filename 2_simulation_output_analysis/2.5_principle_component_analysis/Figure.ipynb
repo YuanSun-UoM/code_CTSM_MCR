{
 "cells": [
  {
   "cell_type": "markdown",
   "metadata": {},
   "source": [
    "# Visualize PC explained variance\n",
    "- This script is used to visualize the principle component explained variance;\n",
    "- Simulations: LCZ_GM."
   ]
  },
  {
   "cell_type": "code",
   "execution_count": 1,
   "metadata": {},
   "outputs": [],
   "source": [
    "import numpy as np\n",
    "import pandas as pd\n",
    "import xarray as xr\n",
    "import geopandas as gpd\n",
    "import matplotlib.pyplot as plt\n",
    "home_path = '/gws/nopw/j04/duicv/yuansun/'\n",
    "data_path= f'{home_path}0_lcz_mcr/output_analysis/regional/HVI/'"
   ]
  },
  {
   "cell_type": "code",
   "execution_count": 2,
   "metadata": {},
   "outputs": [
    {
     "data": {
      "text/html": [
       "<div>\n",
       "<style scoped>\n",
       "    .dataframe tbody tr th:only-of-type {\n",
       "        vertical-align: middle;\n",
       "    }\n",
       "\n",
       "    .dataframe tbody tr th {\n",
       "        vertical-align: top;\n",
       "    }\n",
       "\n",
       "    .dataframe thead th {\n",
       "        text-align: right;\n",
       "    }\n",
       "</style>\n",
       "<table border=\"1\" class=\"dataframe\">\n",
       "  <thead>\n",
       "    <tr style=\"text-align: right;\">\n",
       "      <th></th>\n",
       "      <th>cumulative_explained_variance</th>\n",
       "      <th>explained_variance</th>\n",
       "    </tr>\n",
       "  </thead>\n",
       "  <tbody>\n",
       "    <tr>\n",
       "      <th>0</th>\n",
       "      <td>0.304914</td>\n",
       "      <td>0.304914</td>\n",
       "    </tr>\n",
       "    <tr>\n",
       "      <th>1</th>\n",
       "      <td>0.505923</td>\n",
       "      <td>0.201009</td>\n",
       "    </tr>\n",
       "  </tbody>\n",
       "</table>\n",
       "</div>"
      ],
      "text/plain": [
       "   cumulative_explained_variance  explained_variance\n",
       "0                       0.304914            0.304914\n",
       "1                       0.505923            0.201009"
      ]
     },
     "execution_count": 2,
     "metadata": {},
     "output_type": "execute_result"
    }
   ],
   "source": [
    "factor_variation = pd.read_csv(f'{data_path}factor_variation.csv')\n",
    "factor_variation.head(2)"
   ]
  },
  {
   "cell_type": "code",
   "execution_count": 3,
   "metadata": {},
   "outputs": [
    {
     "data": {
      "text/plain": [
       "array([0.30491386, 0.50592324, 0.64708039, 0.72531477, 0.78135674,\n",
       "       0.83242377, 0.87907561, 0.91960842, 0.9402705 , 0.95892126,\n",
       "       0.97399596, 0.98557208, 0.99304443, 1.        ])"
      ]
     },
     "execution_count": 3,
     "metadata": {},
     "output_type": "execute_result"
    }
   ],
   "source": [
    "factor_variation_flat = factor_variation['cumulative_explained_variance'].values.flatten()\n",
    "factor_variation_flat"
   ]
  },
  {
   "cell_type": "code",
   "execution_count": 6,
   "metadata": {},
   "outputs": [],
   "source": [
    "linewidth = 0.5\n",
    "fontsize = 6\n",
    "labelcolor = '#6b6b6b'\n",
    "xwidth = 0.5\n",
    "marker = 'o'\n",
    "markersize = 2\n",
    "pad = 1\n",
    "length = 2\n",
    "lc0 = '#e41a1c'\n",
    "lc1 = '#377eb8'\n",
    "handletextpad = 0.5"
   ]
  },
  {
   "cell_type": "code",
   "execution_count": 7,
   "metadata": {},
   "outputs": [
    {
     "data": {
      "image/png": "[encoded data removed]",
      "text/plain": [
       "<Figure size 350x250 with 1 Axes>"
      ]
     },
     "metadata": {},
     "output_type": "display_data"
    }
   ],
   "source": [
    "fig, ax = plt.subplots(1,1, figsize=(3.5, 2.5))\n",
    "ax.plot(factor_variation.index + 1, factor_variation['cumulative_explained_variance'].values, marker=marker, linestyle='-', \n",
    "        color=lc0, linewidth=linewidth, markersize = markersize, label = 'Cumulative explained\\nvariance')\n",
    "ax.plot(factor_variation.index + 1, factor_variation['explained_variance'], marker=marker, linestyle='-', color=lc1, \n",
    "        linewidth=linewidth, markersize = markersize, label = 'Explained variance')\n",
    "ax.set_xlim(1, len(factor_variation))\n",
    "ax.fill_between(range(1, 9), factor_variation_flat[0:8], color=lc0, alpha=0.25, linewidth=0, \n",
    "                label='Variance of selected\\ncomponents')\n",
    "ax.set_ylim(0, 1)\n",
    "ax.plot([1, 8], [factor_variation_flat[7], factor_variation_flat[7]], linestyle='--', color=lc0, linewidth=linewidth)\n",
    "ax.text(-0.05, factor_variation_flat[7]- 0.015, str(np.round(factor_variation_flat[7],2)), fontsize=fontsize, color=lc0, transform=ax.transData)\n",
    "ax.tick_params(axis='y', which='both', left=True, right=False, labelleft=True, labelcolor=labelcolor, color=labelcolor,labelsize=fontsize,pad=pad, width = xwidth, length = length)\n",
    "ax.tick_params(axis='x', which='both', bottom=True, top=False, labelbottom=True, labelcolor=labelcolor, color=labelcolor,labelsize=fontsize,pad=pad, width = xwidth, length = length)\n",
    "ax.set_xlabel('Number of components', fontsize=fontsize, color=labelcolor, labelpad = pad)\n",
    "ax.set_ylabel('Explained variance', fontsize=fontsize, color=labelcolor, labelpad = pad)\n",
    "for spine in ax.spines.values():\n",
    "    spine.set_color(labelcolor)\n",
    "    spine.set_linewidth(xwidth) \n",
    "plt.subplots_adjust(left=0.1, right=0.975, bottom=0.1, top=0.95, wspace=0.175, hspace= 0.35)\n",
    "lines, labels = ax.get_legend_handles_labels()\n",
    "legend = fig.legend(lines, labels, bbox_to_anchor=(0.75, 0.2), loc='lower center', frameon=False, \n",
    "                        handletextpad=handletextpad, fontsize=fontsize, ncol=1)\n",
    "for t, text in enumerate(legend.get_texts()):\n",
    "    text.set_color([lc0, lc1, lc0][t])\n",
    "fig.savefig('pca_result.png', dpi=300)\n",
    "fig.savefig('pca_result.pdf', dpi=300)"
   ]
  }
 ],
 "metadata": {
  "kernelspec": {
   "display_name": "conda_env",
   "language": "python",
   "name": "python3"
  },
  "language_info": {
   "codemirror_mode": {
    "name": "ipython",
    "version": 3
   },
   "file_extension": ".py",
   "mimetype": "text/x-python",
   "name": "python",
   "nbconvert_exporter": "python",
   "pygments_lexer": "ipython3",
   "version": "3.9.20"
  }
 },
 "nbformat": 4,
 "nbformat_minor": 2
}
