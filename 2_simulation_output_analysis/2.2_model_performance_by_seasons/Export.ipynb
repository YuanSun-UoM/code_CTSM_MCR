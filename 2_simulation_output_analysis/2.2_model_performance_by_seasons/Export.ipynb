{
 "cells": [
  {
   "cell_type": "markdown",
   "metadata": {},
   "source": [
    "# Export simulation data over sensors by seasons\n",
    "- This script is used to hourly mean simulation data by seasons.\n",
    "- Simulations: CNTL_PT, LCZ_PT."
   ]
  },
  {
   "cell_type": "code",
   "execution_count": 1,
   "metadata": {},
   "outputs": [],
   "source": [
    "import xarray as xr\n",
    "import numpy as np\n",
    "import pandas as pd\n",
    "import matplotlib.pyplot as plt"
   ]
  },
  {
   "cell_type": "code",
   "execution_count": 2,
   "metadata": {},
   "outputs": [],
   "source": [
    "home_path = '/gws/nopw/j04/duicv/yuansun/'\n",
    "output_dir = home_path + '0_lcz_mcr/output_analysis/single_point/variation_diurnal_season/'\n",
    "df_meta = pd.read_csv(home_path + '0_lcz_mcr/output_analysis/single_point/spinup_analysis_period/sensor_metadata.csv')\n",
    "data_dir = home_path + '0_lcz_mcr/output_analysis/single_point/simulation/sensor_output/'\n",
    "season_list = ['DJF', 'MAM', 'JJA', 'SON']"
   ]
  },
  {
   "cell_type": "code",
   "execution_count": 3,
   "metadata": {},
   "outputs": [],
   "source": [
    "for j, season in enumerate(season_list):\n",
    "    hour_average = []\n",
    "    for i, sn in enumerate(df_meta['sensor']):\n",
    "        df = pd.read_csv(data_dir + sn + '.csv')  \n",
    "        df['timestamp'] = pd.to_datetime(df['timestamp']) \n",
    "        df.set_index('timestamp', inplace=True)\n",
    "        df_season = df[df.index.month.isin([12, 1, 2])] if season == 'DJF' else \\\n",
    "                    df[df.index.month.isin([3, 4, 5])] if season == 'MAM' else \\\n",
    "                    df[df.index.month.isin([6, 7, 8])] if season == 'JJA' else \\\n",
    "                    df[df.index.month.isin([9, 10, 11])]\n",
    "        hourly_avg = df_season.groupby(df_season.index.hour).mean()\n",
    "        hourly_avg['sensor'] = sn\n",
    "        hour_average.append(hourly_avg)\n",
    "    hour_average_df = pd.concat(hour_average, axis=0).reset_index()\n",
    "    hour_average_df.to_csv(output_dir + season + '_hourly_mean.csv', index=False)"
   ]
  }
 ],
 "metadata": {
  "kernelspec": {
   "display_name": "conda_env",
   "language": "python",
   "name": "python3"
  },
  "language_info": {
   "codemirror_mode": {
    "name": "ipython",
    "version": 3
   },
   "file_extension": ".py",
   "mimetype": "text/x-python",
   "name": "python",
   "nbconvert_exporter": "python",
   "pygments_lexer": "ipython3",
   "version": "3.9.20"
  }
 },
 "nbformat": 4,
 "nbformat_minor": 2
}
