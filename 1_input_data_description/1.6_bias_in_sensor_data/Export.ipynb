{
 "cells": [
  {
   "cell_type": "markdown",
   "metadata": {},
   "source": [
    "# Export sensor bias\n",
    "- This script is used to calculate diurnal mean sensor bias by month."
   ]
  },
  {
   "cell_type": "code",
   "execution_count": 1,
   "metadata": {},
   "outputs": [],
   "source": [
    "import xarray as xr\n",
    "import pandas as pd\n",
    "import numpy as np\n",
    "import matplotlib.pyplot as plt\n",
    "home_path = '/gws/nopw/j04/duicv/yuansun/'\n",
    "output_dir = home_path + '0_lcz_mcr/output_analysis/single_point/calibration/'"
   ]
  },
  {
   "cell_type": "code",
   "execution_count": 2,
   "metadata": {},
   "outputs": [
    {
     "data": {
      "text/html": [
       "<div>\n",
       "<style scoped>\n",
       "    .dataframe tbody tr th:only-of-type {\n",
       "        vertical-align: middle;\n",
       "    }\n",
       "\n",
       "    .dataframe tbody tr th {\n",
       "        vertical-align: top;\n",
       "    }\n",
       "\n",
       "    .dataframe thead th {\n",
       "        text-align: right;\n",
       "    }\n",
       "</style>\n",
       "<table border=\"1\" class=\"dataframe\">\n",
       "  <thead>\n",
       "    <tr style=\"text-align: right;\">\n",
       "      <th></th>\n",
       "      <th>sn</th>\n",
       "      <th>start_time</th>\n",
       "      <th>end_time</th>\n",
       "      <th>lat</th>\n",
       "      <th>lon</th>\n",
       "      <th>TB notes</th>\n",
       "      <th>Still active</th>\n",
       "      <th>data_start_time</th>\n",
       "      <th>data_end_time</th>\n",
       "      <th>analyse_start_time</th>\n",
       "      <th>analyse_end_time</th>\n",
       "    </tr>\n",
       "  </thead>\n",
       "  <tbody>\n",
       "    <tr>\n",
       "      <th>0</th>\n",
       "      <td>MOD-PM-00097</td>\n",
       "      <td>2021-01-12 05:20:00</td>\n",
       "      <td>2024-01-15 11:56:00</td>\n",
       "      <td>53.484020</td>\n",
       "      <td>-2.270676</td>\n",
       "      <td>NaN</td>\n",
       "      <td>No</td>\n",
       "      <td>2021-02-01 16:31:00</td>\n",
       "      <td>2024-01-15 11:56:00</td>\n",
       "      <td>2022-08-11 12:57:14</td>\n",
       "      <td>2024-01-15 11:56:00</td>\n",
       "    </tr>\n",
       "    <tr>\n",
       "      <th>1</th>\n",
       "      <td>MOD-PM-00342</td>\n",
       "      <td>2021-09-08 15:26:00</td>\n",
       "      <td>2024-06-07 20:36:00</td>\n",
       "      <td>53.504016</td>\n",
       "      <td>-2.217164</td>\n",
       "      <td>Delete data prioir to the 19th of April 2023</td>\n",
       "      <td>No</td>\n",
       "      <td>2021-09-08 20:59:00</td>\n",
       "      <td>2024-06-07 20:36:00</td>\n",
       "      <td>2023-04-19 12:27:34</td>\n",
       "      <td>2024-06-07 20:36:26</td>\n",
       "    </tr>\n",
       "  </tbody>\n",
       "</table>\n",
       "</div>"
      ],
      "text/plain": [
       "             sn           start_time             end_time        lat  \\\n",
       "0  MOD-PM-00097  2021-01-12 05:20:00  2024-01-15 11:56:00  53.484020   \n",
       "1  MOD-PM-00342  2021-09-08 15:26:00  2024-06-07 20:36:00  53.504016   \n",
       "\n",
       "        lon                                      TB notes Still active  \\\n",
       "0 -2.270676                                           NaN           No   \n",
       "1 -2.217164  Delete data prioir to the 19th of April 2023           No   \n",
       "\n",
       "       data_start_time        data_end_time   analyse_start_time  \\\n",
       "0  2021-02-01 16:31:00  2024-01-15 11:56:00  2022-08-11 12:57:14   \n",
       "1  2021-09-08 20:59:00  2024-06-07 20:36:00  2023-04-19 12:27:34   \n",
       "\n",
       "      analyse_end_time  \n",
       "0  2024-01-15 11:56:00  \n",
       "1  2024-06-07 20:36:26  "
      ]
     },
     "execution_count": 2,
     "metadata": {},
     "output_type": "execute_result"
    }
   ],
   "source": [
    "sensor_list = ['MOD-PM-00454', 'MOD-PM-00459', 'MOD-PM-00461']\n",
    "sensor_datapath = home_path + 'manchester/sensor/analyse_variable/temperature/tem_rh_hourly/'\n",
    "meta_data = pd.read_csv(home_path + 'manchester/sensor/meta_data/meta_data_final_for_analyse.csv')\n",
    "meta_data.head(2)"
   ]
  },
  {
   "cell_type": "code",
   "execution_count": 3,
   "metadata": {},
   "outputs": [
    {
     "data": {
      "text/html": [
       "<div>\n",
       "<style scoped>\n",
       "    .dataframe tbody tr th:only-of-type {\n",
       "        vertical-align: middle;\n",
       "    }\n",
       "\n",
       "    .dataframe tbody tr th {\n",
       "        vertical-align: top;\n",
       "    }\n",
       "\n",
       "    .dataframe thead th {\n",
       "        text-align: right;\n",
       "    }\n",
       "</style>\n",
       "<table border=\"1\" class=\"dataframe\">\n",
       "  <thead>\n",
       "    <tr style=\"text-align: right;\">\n",
       "      <th></th>\n",
       "      <th>timestamp</th>\n",
       "      <th>RAIN</th>\n",
       "      <th>FSDS</th>\n",
       "      <th>PBOT</th>\n",
       "      <th>TBOT</th>\n",
       "      <th>RH</th>\n",
       "      <th>WIND</th>\n",
       "    </tr>\n",
       "  </thead>\n",
       "  <tbody>\n",
       "    <tr>\n",
       "      <th>0</th>\n",
       "      <td>2019-07-19 09:00:00</td>\n",
       "      <td>NaN</td>\n",
       "      <td>NaN</td>\n",
       "      <td>NaN</td>\n",
       "      <td>NaN</td>\n",
       "      <td>NaN</td>\n",
       "      <td>0.802263</td>\n",
       "    </tr>\n",
       "    <tr>\n",
       "      <th>1</th>\n",
       "      <td>2019-07-19 10:00:00</td>\n",
       "      <td>NaN</td>\n",
       "      <td>NaN</td>\n",
       "      <td>668.3695</td>\n",
       "      <td>9.719147</td>\n",
       "      <td>63.61148</td>\n",
       "      <td>1.116556</td>\n",
       "    </tr>\n",
       "  </tbody>\n",
       "</table>\n",
       "</div>"
      ],
      "text/plain": [
       "            timestamp  RAIN  FSDS      PBOT      TBOT        RH      WIND\n",
       "0 2019-07-19 09:00:00   NaN   NaN       NaN       NaN       NaN  0.802263\n",
       "1 2019-07-19 10:00:00   NaN   NaN  668.3695  9.719147  63.61148  1.116556"
      ]
     },
     "execution_count": 3,
     "metadata": {},
     "output_type": "execute_result"
    }
   ],
   "source": [
    "supersite_data = pd.read_csv(home_path + 'manchester/supersite/hourly_data/final_supersite_merged.csv')\n",
    "supersite_data['Datetime'] = pd.to_datetime(supersite_data['Datetime'])\n",
    "supersite_data.rename(columns={'Datetime': 'timestamp'}, inplace=True)\n",
    "supersite_data.head(2)"
   ]
  },
  {
   "cell_type": "code",
   "execution_count": 4,
   "metadata": {},
   "outputs": [
    {
     "data": {
      "text/html": [
       "<div>\n",
       "<style scoped>\n",
       "    .dataframe tbody tr th:only-of-type {\n",
       "        vertical-align: middle;\n",
       "    }\n",
       "\n",
       "    .dataframe tbody tr th {\n",
       "        vertical-align: top;\n",
       "    }\n",
       "\n",
       "    .dataframe thead th {\n",
       "        text-align: right;\n",
       "    }\n",
       "</style>\n",
       "<table border=\"1\" class=\"dataframe\">\n",
       "  <thead>\n",
       "    <tr style=\"text-align: right;\">\n",
       "      <th></th>\n",
       "      <th>temp_hourly_avg</th>\n",
       "      <th>rh_hourly_avg</th>\n",
       "    </tr>\n",
       "    <tr>\n",
       "      <th>timestamp</th>\n",
       "      <th></th>\n",
       "      <th></th>\n",
       "    </tr>\n",
       "  </thead>\n",
       "  <tbody>\n",
       "    <tr>\n",
       "      <th>2022-07-18 15:00:00</th>\n",
       "      <td>36.353485</td>\n",
       "      <td>15.856182</td>\n",
       "    </tr>\n",
       "    <tr>\n",
       "      <th>2022-07-18 16:00:00</th>\n",
       "      <td>36.716064</td>\n",
       "      <td>16.948933</td>\n",
       "    </tr>\n",
       "  </tbody>\n",
       "</table>\n",
       "</div>"
      ],
      "text/plain": [
       "                     temp_hourly_avg  rh_hourly_avg\n",
       "timestamp                                          \n",
       "2022-07-18 15:00:00        36.353485      15.856182\n",
       "2022-07-18 16:00:00        36.716064      16.948933"
      ]
     },
     "execution_count": 4,
     "metadata": {},
     "output_type": "execute_result"
    }
   ],
   "source": [
    "sliced_supersite_data = supersite_data[(supersite_data['timestamp'] >= '2022-07-18 15:00:00') & (supersite_data['timestamp'] <= '2024-06-07 20:00:00')]\n",
    "sliced_supersite_data = sliced_supersite_data[['timestamp', 'TBOT', 'RH']].rename(columns={'TBOT': 'temp_hourly_avg', 'RH': 'rh_hourly_avg'}).set_index('timestamp')\n",
    "sliced_supersite_data.head(2)"
   ]
  },
  {
   "cell_type": "code",
   "execution_count": 5,
   "metadata": {},
   "outputs": [
    {
     "name": "stdout",
     "output_type": "stream",
     "text": [
      "-7.297149700000001 38.40674 15.856182 100.0\n"
     ]
    }
   ],
   "source": [
    "print(sliced_supersite_data['temp_hourly_avg'].min(), \n",
    "      sliced_supersite_data['temp_hourly_avg'].max(), \n",
    "      sliced_supersite_data['rh_hourly_avg'].min(), \n",
    "      sliced_supersite_data['rh_hourly_avg'].max())"
   ]
  },
  {
   "cell_type": "code",
   "execution_count": 6,
   "metadata": {},
   "outputs": [
    {
     "data": {
      "text/html": [
       "<div>\n",
       "<style scoped>\n",
       "    .dataframe tbody tr th:only-of-type {\n",
       "        vertical-align: middle;\n",
       "    }\n",
       "\n",
       "    .dataframe tbody tr th {\n",
       "        vertical-align: top;\n",
       "    }\n",
       "\n",
       "    .dataframe thead th {\n",
       "        text-align: right;\n",
       "    }\n",
       "</style>\n",
       "<table border=\"1\" class=\"dataframe\">\n",
       "  <thead>\n",
       "    <tr style=\"text-align: right;\">\n",
       "      <th></th>\n",
       "      <th>temp_hourly_avg</th>\n",
       "      <th>rh_hourly_avg</th>\n",
       "      <th>hour</th>\n",
       "      <th>month</th>\n",
       "    </tr>\n",
       "    <tr>\n",
       "      <th>timestamp</th>\n",
       "      <th></th>\n",
       "      <th></th>\n",
       "      <th></th>\n",
       "      <th></th>\n",
       "    </tr>\n",
       "  </thead>\n",
       "  <tbody>\n",
       "    <tr>\n",
       "      <th>2022-07-18 15:00:00</th>\n",
       "      <td>36.353485</td>\n",
       "      <td>15.856182</td>\n",
       "      <td>15</td>\n",
       "      <td>7</td>\n",
       "    </tr>\n",
       "    <tr>\n",
       "      <th>2022-07-18 16:00:00</th>\n",
       "      <td>36.716064</td>\n",
       "      <td>16.948933</td>\n",
       "      <td>16</td>\n",
       "      <td>7</td>\n",
       "    </tr>\n",
       "  </tbody>\n",
       "</table>\n",
       "</div>"
      ],
      "text/plain": [
       "                     temp_hourly_avg  rh_hourly_avg  hour  month\n",
       "timestamp                                                       \n",
       "2022-07-18 15:00:00        36.353485      15.856182    15      7\n",
       "2022-07-18 16:00:00        36.716064      16.948933    16      7"
      ]
     },
     "execution_count": 6,
     "metadata": {},
     "output_type": "execute_result"
    }
   ],
   "source": [
    "sliced_supersite_data_datetime = sliced_supersite_data.copy()\n",
    "sliced_supersite_data_datetime['hour'] = sliced_supersite_data_datetime.index.hour\n",
    "sliced_supersite_data_datetime['month'] = sliced_supersite_data_datetime.index.month\n",
    "sliced_supersite_data_datetime.head(2)"
   ]
  },
  {
   "cell_type": "code",
   "execution_count": 10,
   "metadata": {},
   "outputs": [
    {
     "data": {
      "text/plain": [
       "\"\\nall_sensor_data = pd.concat(sensor_data_list, axis=1)\\nmean_sensor_data_tem = pd.DataFrame(all_sensor_data['temp_hourly_avg'].mean(axis=1), columns=['mean_sensor_data'])\\nmean_sensor_data_rh = pd.DataFrame(all_sensor_data['rh_hourly_avg'].mean(axis=1), columns=['mean_sensor_data'])\\nmean_sensor_data_tem['hour'] = mean_sensor_data_tem.index.hour\\nmean_sensor_data_rh['hour'] = mean_sensor_data_rh.index.hour\\nmean_sensor_data_tem['month'] = mean_sensor_data_tem.index.month\\nmean_sensor_data_rh['month'] = mean_sensor_data_rh.index.month\\n\""
      ]
     },
     "execution_count": 10,
     "metadata": {},
     "output_type": "execute_result"
    }
   ],
   "source": [
    "bias_list = []\n",
    "#sensor_data_list = []\n",
    "for sensor in sensor_list:\n",
    "    sensor_data = pd.read_csv(sensor_datapath + sensor + '.csv', parse_dates=['timestamp'])\n",
    "    sensor_data_values = sensor_data.set_index('timestamp')\n",
    "    bias = sensor_data.set_index('timestamp') - sliced_supersite_data\n",
    "    bias_list.append(bias)\n",
    "    #sensor_data_list.append(sensor_data_values)\n",
    "all_biases = pd.concat(bias_list, axis=1)\n",
    "mean_bias_tem = pd.DataFrame(all_biases['temp_hourly_avg'].mean(axis=1), columns=['mean_bias'])\n",
    "mean_bias_rh = pd.DataFrame(all_biases['rh_hourly_avg'].mean(axis=1), columns=['mean_bias'])\n",
    "mean_bias_tem['hour'] = mean_bias_tem.index.hour\n",
    "mean_bias_tem['month'] = mean_bias_tem.index.month\n",
    "mean_bias_tem.to_csv(output_dir + 'mean_bias_tem.csv')\n",
    "mean_bias_rh['hour'] = mean_bias_rh.index.hour\n",
    "mean_bias_rh['month'] = mean_bias_rh.index.month\n",
    "mean_bias_rh.to_csv(output_dir + 'mean_bias_rh.csv')\n",
    "'''\n",
    "all_sensor_data = pd.concat(sensor_data_list, axis=1)\n",
    "mean_sensor_data_tem = pd.DataFrame(all_sensor_data['temp_hourly_avg'].mean(axis=1), columns=['mean_sensor_data'])\n",
    "mean_sensor_data_rh = pd.DataFrame(all_sensor_data['rh_hourly_avg'].mean(axis=1), columns=['mean_sensor_data'])\n",
    "mean_sensor_data_tem['hour'] = mean_sensor_data_tem.index.hour\n",
    "mean_sensor_data_rh['hour'] = mean_sensor_data_rh.index.hour\n",
    "mean_sensor_data_tem['month'] = mean_sensor_data_tem.index.month\n",
    "mean_sensor_data_rh['month'] = mean_sensor_data_rh.index.month\n",
    "'''"
   ]
  },
  {
   "cell_type": "code",
   "execution_count": 9,
   "metadata": {},
   "outputs": [
    {
     "data": {
      "text/html": [
       "<div>\n",
       "<style scoped>\n",
       "    .dataframe tbody tr th:only-of-type {\n",
       "        vertical-align: middle;\n",
       "    }\n",
       "\n",
       "    .dataframe tbody tr th {\n",
       "        vertical-align: top;\n",
       "    }\n",
       "\n",
       "    .dataframe thead th {\n",
       "        text-align: right;\n",
       "    }\n",
       "</style>\n",
       "<table border=\"1\" class=\"dataframe\">\n",
       "  <thead>\n",
       "    <tr style=\"text-align: right;\">\n",
       "      <th></th>\n",
       "      <th>mean_bias</th>\n",
       "      <th>hour</th>\n",
       "      <th>month</th>\n",
       "    </tr>\n",
       "    <tr>\n",
       "      <th>timestamp</th>\n",
       "      <th></th>\n",
       "      <th></th>\n",
       "      <th></th>\n",
       "    </tr>\n",
       "  </thead>\n",
       "  <tbody>\n",
       "    <tr>\n",
       "      <th>2022-07-18 15:00:00</th>\n",
       "      <td>2.655237</td>\n",
       "      <td>15</td>\n",
       "      <td>7</td>\n",
       "    </tr>\n",
       "    <tr>\n",
       "      <th>2022-07-18 16:00:00</th>\n",
       "      <td>4.134547</td>\n",
       "      <td>16</td>\n",
       "      <td>7</td>\n",
       "    </tr>\n",
       "  </tbody>\n",
       "</table>\n",
       "</div>"
      ],
      "text/plain": [
       "                     mean_bias  hour  month\n",
       "timestamp                                  \n",
       "2022-07-18 15:00:00   2.655237    15      7\n",
       "2022-07-18 16:00:00   4.134547    16      7"
      ]
     },
     "execution_count": 9,
     "metadata": {},
     "output_type": "execute_result"
    }
   ],
   "source": [
    "mean_bias_tem.head(2)"
   ]
  }
 ],
 "metadata": {
  "kernelspec": {
   "display_name": "conda_env",
   "language": "python",
   "name": "python3"
  },
  "language_info": {
   "codemirror_mode": {
    "name": "ipython",
    "version": 3
   },
   "file_extension": ".py",
   "mimetype": "text/x-python",
   "name": "python",
   "nbconvert_exporter": "python",
   "pygments_lexer": "ipython3",
   "version": "3.9.20"
  }
 },
 "nbformat": 4,
 "nbformat_minor": 2
}
