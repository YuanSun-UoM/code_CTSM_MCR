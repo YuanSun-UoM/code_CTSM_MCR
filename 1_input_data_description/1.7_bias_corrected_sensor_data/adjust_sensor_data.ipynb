{
 "cells": [
  {
   "cell_type": "code",
   "execution_count": 1,
   "metadata": {},
   "outputs": [],
   "source": [
    "import xarray as xr\n",
    "import pandas as pd\n",
    "import numpy as np\n",
    "import matplotlib.pyplot as plt\n",
    "home_path = '/gws/nopw/j04/duicv/yuansun/'"
   ]
  },
  {
   "cell_type": "code",
   "execution_count": 3,
   "metadata": {},
   "outputs": [],
   "source": [
    "sensor_list = ['MOD-PM-00454', 'MOD-PM-00459', 'MOD-PM-00461']\n",
    "sensor_datapath = home_path + 'manchester/sensor/analyse_variable/temperature/tem_rh_hourly/'\n",
    "meta_data = pd.read_csv(home_path + 'manchester/sensor/meta_data/meta_data_final_for_analyse.csv')\n",
    "supersite_data = pd.read_csv(home_path + 'manchester/supersite/hourly_data/final_supersite_merged.csv')\n",
    "supersite_data['Datetime'] = pd.to_datetime(supersite_data['Datetime'])\n",
    "supersite_data.rename(columns={'Datetime': 'timestamp'}, inplace=True)\n",
    "sliced_supersite_data = supersite_data[(supersite_data['timestamp'] >= '2022-07-18 15:00:00') & (supersite_data['timestamp'] <= '2024-06-07 20:00:00')]\n",
    "sliced_supersite_data = sliced_supersite_data[['timestamp', 'TBOT', 'RH']].rename(columns={'TBOT': 'temp_hourly_avg', 'RH': 'rh_hourly_avg'}).reset_index(drop=True)\n",
    "bias_list = []\n",
    "for sensor in sensor_list:\n",
    "    sensor_data = pd.read_csv(sensor_datapath + sensor + '.csv', parse_dates=['timestamp'])\n",
    "    bias = pd.DataFrame()\n",
    "    bias['timestamp'] = sensor_data['timestamp']\n",
    "    bias['temp_hourly_avg'] = (sensor_data['temp_hourly_avg'] - sliced_supersite_data['temp_hourly_avg']) / sliced_supersite_data['temp_hourly_avg']\n",
    "    bias['rh_hourly_avg'] = (sensor_data['rh_hourly_avg'] - sliced_supersite_data['rh_hourly_avg']) / sliced_supersite_data['rh_hourly_avg']\n",
    "    bias.set_index('timestamp', inplace=True)\n",
    "    # remove the outliers\n",
    "    bias['temp_hourly_avg'] = bias['temp_hourly_avg'].where((bias['temp_hourly_avg'] <= 15)&(bias['temp_hourly_avg'] >= -15), np.nan)\n",
    "    #print(bias[bias['temp_hourly_avg']<-15])\n",
    "    #bias['hour'] = bias['timestamp'].dt.hour\n",
    "    #bias['month'] = bias['timestamp'].dt.month\n",
    "    #bias = (sensor_data.set_index('timestamp') - sliced_supersite_data) / sliced_supersite_data\n",
    "    bias_list.append(bias)\n",
    "all_biases = pd.concat(bias_list, axis=1)\n",
    "# control the qulity of all_biases\n",
    "mean_bias_tem = pd.DataFrame(all_biases['temp_hourly_avg'].mean(axis=1), columns=['mean_bias'])\n",
    "mean_bias_rh = pd.DataFrame(all_biases['rh_hourly_avg'].mean(axis=1), columns=['mean_bias'])\n",
    "mean_bias_tem['hour'] = mean_bias_tem.index.hour\n",
    "mean_bias_rh['hour'] = mean_bias_rh.index.hour\n",
    "mean_bias_tem['month'] = mean_bias_tem.index.month\n",
    "mean_bias_rh['month'] = mean_bias_rh.index.month\n",
    "monthly_mean_bias_tem = mean_bias_tem.groupby(['month', 'hour']).mean()\n",
    "monthly_mean_bias_rh = mean_bias_rh.groupby(['month', 'hour']).mean()\n"
   ]
  },
  {
   "cell_type": "code",
   "execution_count": 27,
   "metadata": {},
   "outputs": [
    {
     "name": "stdout",
     "output_type": "stream",
     "text": [
      "14.82611111111111 91.54666666666668\n"
     ]
    }
   ],
   "source": [
    "print(sensor_data['rh_hourly_avg'].min(), sensor_data['rh_hourly_avg'].max())"
   ]
  },
  {
   "cell_type": "code",
   "execution_count": 29,
   "metadata": {},
   "outputs": [
    {
     "name": "stdout",
     "output_type": "stream",
     "text": [
      "-5.938166666666667 42.83533333333333\n"
     ]
    }
   ],
   "source": [
    "print(sensor_data['temp_hourly_avg'].min(), sensor_data['temp_hourly_avg'].max())"
   ]
  },
  {
   "cell_type": "code",
   "execution_count": 22,
   "metadata": {},
   "outputs": [
    {
     "data": {
      "text/html": [
       "<div>\n",
       "<style scoped>\n",
       "    .dataframe tbody tr th:only-of-type {\n",
       "        vertical-align: middle;\n",
       "    }\n",
       "\n",
       "    .dataframe tbody tr th {\n",
       "        vertical-align: top;\n",
       "    }\n",
       "\n",
       "    .dataframe thead th {\n",
       "        text-align: right;\n",
       "    }\n",
       "</style>\n",
       "<table border=\"1\" class=\"dataframe\">\n",
       "  <thead>\n",
       "    <tr style=\"text-align: right;\">\n",
       "      <th></th>\n",
       "      <th>month</th>\n",
       "      <th>hour</th>\n",
       "      <th>mean_bias</th>\n",
       "    </tr>\n",
       "  </thead>\n",
       "  <tbody>\n",
       "    <tr>\n",
       "      <th>18</th>\n",
       "      <td>1</td>\n",
       "      <td>18</td>\n",
       "      <td>-0.102477</td>\n",
       "    </tr>\n",
       "    <tr>\n",
       "      <th>42</th>\n",
       "      <td>2</td>\n",
       "      <td>18</td>\n",
       "      <td>-0.110518</td>\n",
       "    </tr>\n",
       "    <tr>\n",
       "      <th>66</th>\n",
       "      <td>3</td>\n",
       "      <td>18</td>\n",
       "      <td>-0.116940</td>\n",
       "    </tr>\n",
       "    <tr>\n",
       "      <th>90</th>\n",
       "      <td>4</td>\n",
       "      <td>18</td>\n",
       "      <td>-0.145512</td>\n",
       "    </tr>\n",
       "    <tr>\n",
       "      <th>114</th>\n",
       "      <td>5</td>\n",
       "      <td>18</td>\n",
       "      <td>-0.179767</td>\n",
       "    </tr>\n",
       "    <tr>\n",
       "      <th>138</th>\n",
       "      <td>6</td>\n",
       "      <td>18</td>\n",
       "      <td>-0.190531</td>\n",
       "    </tr>\n",
       "    <tr>\n",
       "      <th>162</th>\n",
       "      <td>7</td>\n",
       "      <td>18</td>\n",
       "      <td>-0.172164</td>\n",
       "    </tr>\n",
       "    <tr>\n",
       "      <th>186</th>\n",
       "      <td>8</td>\n",
       "      <td>18</td>\n",
       "      <td>-0.172189</td>\n",
       "    </tr>\n",
       "    <tr>\n",
       "      <th>210</th>\n",
       "      <td>9</td>\n",
       "      <td>18</td>\n",
       "      <td>-0.127869</td>\n",
       "    </tr>\n",
       "    <tr>\n",
       "      <th>234</th>\n",
       "      <td>10</td>\n",
       "      <td>18</td>\n",
       "      <td>-0.108885</td>\n",
       "    </tr>\n",
       "    <tr>\n",
       "      <th>258</th>\n",
       "      <td>11</td>\n",
       "      <td>18</td>\n",
       "      <td>-0.103297</td>\n",
       "    </tr>\n",
       "    <tr>\n",
       "      <th>282</th>\n",
       "      <td>12</td>\n",
       "      <td>18</td>\n",
       "      <td>-0.102364</td>\n",
       "    </tr>\n",
       "  </tbody>\n",
       "</table>\n",
       "</div>"
      ],
      "text/plain": [
       "     month  hour  mean_bias\n",
       "18       1    18  -0.102477\n",
       "42       2    18  -0.110518\n",
       "66       3    18  -0.116940\n",
       "90       4    18  -0.145512\n",
       "114      5    18  -0.179767\n",
       "138      6    18  -0.190531\n",
       "162      7    18  -0.172164\n",
       "186      8    18  -0.172189\n",
       "210      9    18  -0.127869\n",
       "234     10    18  -0.108885\n",
       "258     11    18  -0.103297\n",
       "282     12    18  -0.102364"
      ]
     },
     "execution_count": 22,
     "metadata": {},
     "output_type": "execute_result"
    }
   ],
   "source": [
    "check = monthly_mean_bias_rh.reset_index()\n",
    "check[check['hour']==18]"
   ]
  },
  {
   "cell_type": "code",
   "execution_count": 6,
   "metadata": {},
   "outputs": [
    {
     "name": "stdout",
     "output_type": "stream",
     "text": [
      "rh_hourly_avg   -0.411717\n",
      "rh_hourly_avg   -0.400747\n",
      "rh_hourly_avg   -0.435157\n",
      "dtype: float64 rh_hourly_avg   -0.016407\n",
      "rh_hourly_avg   -0.018189\n",
      "rh_hourly_avg   -0.009977\n",
      "dtype: float64\n"
     ]
    }
   ],
   "source": [
    "print(all_biases['rh_hourly_avg'].min(), all_biases['rh_hourly_avg'].max())"
   ]
  },
  {
   "cell_type": "code",
   "execution_count": 42,
   "metadata": {},
   "outputs": [],
   "source": [
    "for sensor in meta_data['sn']:\n",
    "    if sensor not in sensor_list:\n",
    "        sensor_data = pd.read_csv(sensor_datapath + sensor + '.csv')\n",
    "        sensor_data['timestamp'] = pd.to_datetime(sensor_data['timestamp'])\n",
    "        sensor_data['hour'] = sensor_data['timestamp'].dt.hour\n",
    "        sensor_data['month'] = sensor_data['timestamp'].dt.month\n",
    "        merged_data = pd.merge(sensor_data, monthly_mean_bias_rh, on=['month', 'hour'], how='left')\n",
    "        merged_data = pd.merge(merged_data, monthly_mean_bias_tem, on=['month', 'hour'], how='left')\n",
    "        merged_data = merged_data.rename(columns={'mean_bias_x': 'rh_mean_bias', 'mean_bias_y': 'temp_mean_bias'})\n",
    "        merged_data['rh_hourly_avg_corrected'] = merged_data['rh_hourly_avg'] / (1 + merged_data['rh_mean_bias'])\n",
    "        merged_data['temp_hourly_avg_corrected'] = merged_data['temp_hourly_avg'] / (1 + merged_data['temp_mean_bias'])\n",
    "        data_for_save = merged_data[['timestamp', 'rh_hourly_avg_corrected', 'temp_hourly_avg_corrected']]\n",
    "        # if relative humidity is over 100%, set it to 100%\n",
    "        data_for_save.loc[data_for_save['rh_hourly_avg_corrected']>100, 'rh_hourly_avg_corrected']= 100\n",
    "        data_for_save.to_csv('./adjusted_sensor_data/' + sensor + '.csv', index=False)\n"
   ]
  },
  {
   "cell_type": "code",
   "execution_count": 43,
   "metadata": {},
   "outputs": [
    {
     "name": "stdout",
     "output_type": "stream",
     "text": [
      "27.959354339075162 100.0\n",
      "0.45621224941974764 29.399030743187826\n"
     ]
    }
   ],
   "source": [
    "print(data_for_save['rh_hourly_avg_corrected'].min(), data_for_save['rh_hourly_avg_corrected'].max())\n",
    "print(data_for_save['temp_hourly_avg_corrected'].min(), data_for_save['temp_hourly_avg_corrected'].max())"
   ]
  }
 ],
 "metadata": {
  "kernelspec": {
   "display_name": "my_virtual_env",
   "language": "python",
   "name": "python3"
  },
  "language_info": {
   "codemirror_mode": {
    "name": "ipython",
    "version": 3
   },
   "file_extension": ".py",
   "mimetype": "text/x-python",
   "name": "python",
   "nbconvert_exporter": "python",
   "pygments_lexer": "ipython3",
   "version": "3.9.20"
  }
 },
 "nbformat": 4,
 "nbformat_minor": 2
}
